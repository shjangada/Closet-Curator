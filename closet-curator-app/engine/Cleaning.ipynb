{
 "cells": [
  {
   "cell_type": "code",
   "execution_count": 3,
   "id": "82589220-e1a5-41fd-a815-5b748523d2a6",
   "metadata": {},
   "outputs": [],
   "source": [
    "import os\n",
    "import shutil\n",
    "from tqdm import tqdm  # Import the tqdm library\n",
    "\n",
    "def process_images(input_txt, search_folder, target_folder, output_txt):\n",
    "    \"\"\"\n",
    "    Process the input text file, search for images, copy found images, and update the text file.\n",
    "\n",
    "    Args:\n",
    "    - input_txt (str): Path to the input text file.\n",
    "    - search_folder (str): Root directory to search for images.\n",
    "    - target_folder (str): Destination folder to copy images.\n",
    "    - output_txt (str): Path to save the updated text file.\n",
    "    \"\"\"\n",
    "    with open(input_txt, 'r') as file:\n",
    "        lines = file.readlines()\n",
    "\n",
    "    updated_lines = []\n",
    "    os.makedirs(target_folder, exist_ok=True)\n",
    "\n",
    "    # Initialize tqdm progress bar for the number of lines\n",
    "    with tqdm(total=len(lines), desc=\"Processing lines\", unit=\"line\") as pbar:\n",
    "        for line in lines:\n",
    "            parts = line.strip().split()\n",
    "            updated_parts = [parts[0]]  # Keep the initial number (e.g., \"1\")\n",
    "\n",
    "            for image_name in parts[1:]:\n",
    "                image_found = False\n",
    "                for root, _, files in os.walk(search_folder):\n",
    "                    if f\"{image_name}.jpg\" in files:\n",
    "                        image_found = True\n",
    "                        source_path = os.path.join(root, f\"{image_name}.jpg\")\n",
    "                        destination_path = os.path.join(target_folder, f\"{image_name}.jpg\")\n",
    "                        shutil.copy2(source_path, destination_path)  # Copy image to target folder\n",
    "                        break\n",
    "\n",
    "                if image_found:\n",
    "                    updated_parts.append(image_name)  # Keep image name if found\n",
    "\n",
    "            if len(updated_parts) > 1:  # Keep line only if there are images left\n",
    "                updated_lines.append(\" \".join(updated_parts) + \"\\n\")\n",
    "            \n",
    "            pbar.update(1)  # Update the progress bar\n",
    "\n",
    "    # Write the updated lines back to the output text file\n",
    "    with open(output_txt, 'w') as file:\n",
    "        file.writelines(updated_lines)\n",
    "\n",
    "    print(\"Processing completed.\")"
   ]
  },
  {
   "cell_type": "code",
   "execution_count": 4,
   "id": "81b51004-c22e-4469-8987-688f8ad28bdd",
   "metadata": {
    "scrolled": true
   },
   "outputs": [
    {
     "name": "stderr",
     "output_type": "stream",
     "text": [
      "Processing lines: 100%|████████████████████████████████████████████████████████| 7076/7076 [1:07:06<00:00,  1.76line/s]"
     ]
    },
    {
     "name": "stdout",
     "output_type": "stream",
     "text": [
      "Processing completed.\n"
     ]
    },
    {
     "name": "stderr",
     "output_type": "stream",
     "text": [
      "\n"
     ]
    }
   ],
   "source": [
    "# Example usage\n",
    "input_txt = \"polyvore/fashion_compatibility_prediction.txt\"  # Path to the input text file\n",
    "search_folder = \"Sorted\"  # Root folder containing subdirectories with images\n",
    "target_folder = \"Cleaned\"  # Destination folder for found images\n",
    "output_txt = \"Cleaned/output.txt\"  # Path to save the updated text file\n",
    "num_threads = 8  # Number of threads to use\n",
    "process_images(input_txt, search_folder, target_folder, output_txt)"
   ]
  },
  {
   "cell_type": "code",
   "execution_count": 7,
   "id": "dc5de558-4214-4e22-8977-567fade7d75d",
   "metadata": {},
   "outputs": [
    {
     "name": "stdout",
     "output_type": "stream",
     "text": [
      "Processing completed.\n"
     ]
    }
   ],
   "source": [
    "with open(output_txt, 'r') as file:\n",
    "    lines = file.readlines()\n",
    "\n",
    "    # Filter out lines where there is only one item after the initial number\n",
    "    lines = [line for line in lines if len(line.strip().split()) > 2]\n",
    "\n",
    "    # Write the filtered lines back to the output file\n",
    "    with open(output_txt, 'w') as file:\n",
    "        file.writelines(lines)\n",
    "\n",
    "    print(\"Processing completed.\")"
   ]
  },
  {
   "cell_type": "code",
   "execution_count": 11,
   "id": "f19fbb93-b17f-4a1c-8af8-3432b8aec536",
   "metadata": {},
   "outputs": [
    {
     "name": "stdout",
     "output_type": "stream",
     "text": [
      "Started\n"
     ]
    },
    {
     "name": "stderr",
     "output_type": "stream",
     "text": [
      "Processing images: 100%|██████████████████████████████████████████████████████| 8850/8850 [1:02:58<00:00,  2.34image/s]\n"
     ]
    }
   ],
   "source": [
    "from pathlib import Path\n",
    "from rembg import remove, new_session\n",
    "import os\n",
    "from tqdm import tqdm  # Import tqdm for the progress bar\n",
    "\n",
    "print(\"Started\")\n",
    "providers = ['CUDAExecutionProvider']\n",
    "session = new_session(providers=providers)\n",
    "\n",
    "# Ensure the output directory exists\n",
    "os.makedirs(\"BackgroundRemoved\", exist_ok=True)\n",
    "\n",
    "# Get all JPG files from the directory\n",
    "image_files = list(Path('Cleaned').glob('*.jpg'))\n",
    "\n",
    "# Create a tqdm iterator to show progress\n",
    "for file in tqdm(image_files, desc=\"Processing images\", unit=\"image\"):\n",
    "    input_path = str(file)\n",
    "    output_path = os.path.join(\"BackgroundRemoved\", file.name)  # Fix output path\n",
    "\n",
    "    try:\n",
    "        with open(input_path, 'rb') as i:\n",
    "            with open(output_path, 'wb') as o:\n",
    "                input_data = i.read()  # Read image in binary mode\n",
    "                output_data = remove(input_data, session=session)  # Process the image\n",
    "                o.write(output_data)  # Write the output to the new file\n",
    "    except Exception as e:\n",
    "        print(f\"Error processing {input_path}: {e}\")\n"
   ]
  },
  {
   "cell_type": "code",
   "execution_count": null,
   "id": "35a743fc-156f-4332-a369-45a49a9f966d",
   "metadata": {},
   "outputs": [],
   "source": []
  }
 ],
 "metadata": {
  "kernelspec": {
   "display_name": "Python 3 (ipykernel)",
   "language": "python",
   "name": "python3"
  },
  "language_info": {
   "codemirror_mode": {
    "name": "ipython",
    "version": 3
   },
   "file_extension": ".py",
   "mimetype": "text/x-python",
   "name": "python",
   "nbconvert_exporter": "python",
   "pygments_lexer": "ipython3",
   "version": "3.10.15"
  }
 },
 "nbformat": 4,
 "nbformat_minor": 5
}
