{
 "cells": [
  {
   "cell_type": "code",
   "execution_count": 11,
   "id": "b5cba1a6-7a76-4bbf-88d2-d8ca6037131e",
   "metadata": {},
   "outputs": [
    {
     "name": "stdout",
     "output_type": "stream",
     "text": [
      "Using device: cuda\n"
     ]
    }
   ],
   "source": [
    "import torch\n",
    "import torch.nn as nn\n",
    "from torchvision import models, transforms\n",
    "from torch.utils.data import DataLoader, Dataset\n",
    "import os\n",
    "import numpy as np\n",
    "from PIL import Image\n",
    "from tqdm import tqdm  # Import tqdm for the progress bar\n",
    "\n",
    "# Define the transformation to preprocess images\n",
    "preprocess = transforms.Compose([\n",
    "    transforms.Resize(256),\n",
    "    transforms.CenterCrop(224),\n",
    "    transforms.ToTensor(),\n",
    "    transforms.Normalize(mean=[0.485, 0.456, 0.406], std=[0.229, 0.224, 0.225]),\n",
    "])\n",
    "\n",
    "# Define a custom dataset class\n",
    "class ImageDataset(Dataset):\n",
    "    def __init__(self, image_dir, transform=None):\n",
    "        self.image_dir = image_dir\n",
    "        self.image_paths = [os.path.join(image_dir, fname) for fname in os.listdir(image_dir)]\n",
    "        self.transform = transform\n",
    "\n",
    "    def __len__(self):\n",
    "        return len(self.image_paths)\n",
    "\n",
    "    def __getitem__(self, idx):\n",
    "        img_path = self.image_paths[idx]\n",
    "        img = Image.open(img_path).convert('RGB')\n",
    "        if self.transform:\n",
    "            img = self.transform(img)\n",
    "        return img, img_path\n",
    "\n",
    "# Check if GPU is available and use it if possible\n",
    "device = torch.device(\"cuda\" if torch.cuda.is_available() else \"cpu\")\n",
    "print(f\"Using device: {device}\")\n",
    "\n",
    "# Load the pre-trained MobileNet model (excluding the top layer)\n",
    "model = models.mobilenet_v2(pretrained=True)\n",
    "model = model.features  # Only use the feature extractor (no classifier)\n",
    "\n",
    "# Move the model to the GPU (if available)\n",
    "model = model.to(device)\n",
    "\n",
    "# Set the model to evaluation mode\n",
    "model.eval()\n",
    "\n",
    "# Function to generate embeddings for a batch of images\n",
    "def generate_embeddings(image_dir):\n",
    "    # Create the dataset and dataloader\n",
    "    dataset = ImageDataset(image_dir, transform=preprocess)\n",
    "    dataloader = DataLoader(dataset, batch_size=32, shuffle=False)\n",
    "\n",
    "    embeddings = []\n",
    "    image_paths = []\n",
    "\n",
    "    # Extract embeddings\n",
    "    with torch.no_grad():  # Disable gradient calculation (faster inference)\n",
    "        for imgs, paths in tqdm(dataloader, desc=\"Processing Images\", unit=\"batch\"):\n",
    "            # Move images to the GPU (if available)\n",
    "            imgs = imgs.to(device)\n",
    "\n",
    "            # Pass the images through the MobileNet feature extractor\n",
    "            features = model(imgs)\n",
    "\n",
    "            # Global average pooling\n",
    "            pooled_features = features.mean([2, 3])  # (batch_size, 1280)\n",
    "\n",
    "            embeddings.append(pooled_features)\n",
    "            image_paths.extend(paths)\n",
    "\n",
    "    embeddings = torch.cat(embeddings, dim=0)  # Concatenate all embeddings\n",
    "    return embeddings.cpu().numpy(), image_paths  # Move embeddings back to CPU and convert to NumPy\n",
    "\n",
    "# Function to save embeddings to a file\n",
    "def save_embeddings(embeddings, image_paths, filename=\"embeddings.npy\"):\n",
    "    np.save(filename, embeddings)  # Save embeddings as a .npy file\n",
    "    with open(\"image_paths.txt\", \"w\") as f:\n",
    "        for path in image_paths:\n",
    "            f.write(f\"{path}\\n\")  # Save image paths in a separate text file\n",
    "\n",
    "\n"
   ]
  },
  {
   "cell_type": "code",
   "execution_count": 12,
   "id": "fc5bb366-3cae-4a1c-8170-be9ab6da2bae",
   "metadata": {},
   "outputs": [
    {
     "name": "stderr",
     "output_type": "stream",
     "text": [
      "Processing Images: 100%|██████████████████████████████████████████████████████████| 277/277 [01:02<00:00,  4.40batch/s]\n"
     ]
    },
    {
     "name": "stdout",
     "output_type": "stream",
     "text": [
      "Embeddings saved to 'embeddings.npy' and image paths to 'image_paths.txt'\n"
     ]
    }
   ],
   "source": [
    "# Example usage\n",
    "image_directory = 'BackgroundRemoved'  # Directory where your images are stored\n",
    "embeddings, image_paths = generate_embeddings(image_directory)\n",
    "\n",
    "# Save embeddings and image paths\n",
    "save_embeddings(embeddings, image_paths)\n",
    "\n",
    "print(f\"Embeddings saved to 'embeddings.npy' and image paths to 'image_paths.txt'\")"
   ]
  },
  {
   "cell_type": "code",
   "execution_count": null,
   "id": "0269518b-1568-4fc8-aa01-ef2c1f1d723a",
   "metadata": {},
   "outputs": [],
   "source": []
  }
 ],
 "metadata": {
  "kernelspec": {
   "display_name": "Python 3 (ipykernel)",
   "language": "python",
   "name": "python3"
  },
  "language_info": {
   "codemirror_mode": {
    "name": "ipython",
    "version": 3
   },
   "file_extension": ".py",
   "mimetype": "text/x-python",
   "name": "python",
   "nbconvert_exporter": "python",
   "pygments_lexer": "ipython3",
   "version": "3.10.15"
  }
 },
 "nbformat": 4,
 "nbformat_minor": 5
}
